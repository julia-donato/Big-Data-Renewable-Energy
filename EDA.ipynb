{
 "cells": [
  {
   "cell_type": "code",
   "execution_count": 8,
   "id": "b9adbff6",
   "metadata": {},
   "outputs": [],
   "source": [
    "%matplotlib inline\n",
    "import h5pyd\n",
    "import numpy as np\n",
    "import pandas as pd\n",
    "import matplotlib.pyplot as plt\n",
    "import matplotlib.image as mpimg\n",
    "from scipy.spatial import cKDTree\n",
    "import os"
   ]
  },
  {
   "cell_type": "code",
   "execution_count": 44,
   "id": "948441df",
   "metadata": {},
   "outputs": [],
   "source": [
    "f = h5pyd.File(\"/nrel/nsrdb/meteosat/meteosat_2019.h5\", 'r')"
   ]
  },
  {
   "cell_type": "code",
   "execution_count": 58,
   "id": "dc533edd",
   "metadata": {},
   "outputs": [
    {
     "data": {
      "text/plain": [
       "['coordinates',\n",
       " 'meta',\n",
       " 'ozone',\n",
       " 'solar_zenith_angle',\n",
       " 'surface_albedo',\n",
       " 'time_index',\n",
       " 'total_precipitable_water',\n",
       " 'alpha',\n",
       " 'aod',\n",
       " 'asymmetry',\n",
       " 'ssa',\n",
       " 'clearsky_dhi',\n",
       " 'clearsky_dni',\n",
       " 'clearsky_ghi',\n",
       " 'cld_opd_dcomp',\n",
       " 'cld_reff_dcomp',\n",
       " 'cloud_fill_flag',\n",
       " 'cloud_type',\n",
       " 'dew_point',\n",
       " 'relative_humidity',\n",
       " 'surface_pressure',\n",
       " 'dhi',\n",
       " 'dni',\n",
       " 'fill_flag',\n",
       " 'ghi',\n",
       " 'air_temperature',\n",
       " 'wind_direction',\n",
       " 'wind_speed']"
      ]
     },
     "execution_count": 58,
     "metadata": {},
     "output_type": "execute_result"
    }
   ],
   "source": [
    "list(f)  # list the datasets in the file"
   ]
  },
  {
   "cell_type": "code",
   "execution_count": 59,
   "id": "db16b1db",
   "metadata": {},
   "outputs": [
    {
     "data": {
      "text/plain": [
       "(35040, 3869544)"
      ]
     },
     "execution_count": 59,
     "metadata": {},
     "output_type": "execute_result"
    }
   ],
   "source": [
    "dset = f['ghi']\n",
    "dset.shape"
   ]
  },
  {
   "cell_type": "code",
   "execution_count": 18,
   "id": "762e6e8d",
   "metadata": {},
   "outputs": [
    {
     "data": {
      "text/plain": [
       "DatetimeIndex(['2018-01-01 00:00:00', '2018-01-01 00:15:00',\n",
       "               '2018-01-01 00:30:00', '2018-01-01 00:45:00',\n",
       "               '2018-01-01 01:00:00', '2018-01-01 01:15:00',\n",
       "               '2018-01-01 01:30:00', '2018-01-01 01:45:00',\n",
       "               '2018-01-01 02:00:00', '2018-01-01 02:15:00',\n",
       "               ...\n",
       "               '2018-12-31 21:30:00', '2018-12-31 21:45:00',\n",
       "               '2018-12-31 22:00:00', '2018-12-31 22:15:00',\n",
       "               '2018-12-31 22:30:00', '2018-12-31 22:45:00',\n",
       "               '2018-12-31 23:00:00', '2018-12-31 23:15:00',\n",
       "               '2018-12-31 23:30:00', '2018-12-31 23:45:00'],\n",
       "              dtype='datetime64[ns]', length=35040, freq=None)"
      ]
     },
     "execution_count": 18,
     "metadata": {},
     "output_type": "execute_result"
    }
   ],
   "source": [
    "# Extract datetime index for datasets\n",
    "time_index = pd.to_datetime(f['time_index'][...].astype(str))\n",
    "time_index "
   ]
  },
  {
   "cell_type": "code",
   "execution_count": 20,
   "id": "eaacbb6f",
   "metadata": {},
   "outputs": [
    {
     "data": {
      "text/plain": [
       "latitude     float32\n",
       "longitude    float32\n",
       "elevation      int16\n",
       "timezone       int16\n",
       "country       object\n",
       "state         object\n",
       "county        object\n",
       "dtype: object"
      ]
     },
     "execution_count": 20,
     "metadata": {},
     "output_type": "execute_result"
    }
   ],
   "source": [
    "import pandas as pd\n",
    "meta = pd.DataFrame(f['meta'][...])\n",
    "meta.dtypes"
   ]
  },
  {
   "cell_type": "code",
   "execution_count": 21,
   "id": "f4aa52b7",
   "metadata": {},
   "outputs": [
    {
     "name": "stdout",
     "output_type": "stream",
     "text": [
      "['None', 'Cape Verde', 'Spain', 'Senegal', 'Portugal', 'Western Sahara', 'Mauritania', 'Gambia', 'Guinea-Bissau', 'Guinea', 'Saint Helena', 'Sierra Leone', 'Morocco', 'Mali', 'Liberia', 'Algeria', 'Ireland', \"Côte d'Ivoire\", 'United Kingdom', 'Burkina Faso', 'France', 'Isle of Man', 'Ghana', 'Guernsey', 'Jersey', 'Togo', 'Niger', 'Benin', 'Andorra', 'Belgium', 'Nigeria', 'Bouvet Island', 'Netherlands', 'Norway', 'Luxembourg', 'Germany', 'Switzerland', 'São Tomé and Príncipe', 'Italy', 'Monaco', 'Tunisia', 'Denmark', 'Equatorial Guinea', 'Cameroon', 'Gabon', 'Libya', 'Liechtenstein', 'Austria', 'Sweden', 'Republic of Congo', 'Angola', 'Namibia', 'Czech Republic', 'Democratic Republic of the Congo', 'San Marino', 'Slovenia', 'Croatia', 'Chad', 'Poland', 'Malta', 'Central African Republic', 'Bosnia and Herzegovina', 'Hungary', 'South Africa', 'Slovakia', 'Montenegro', 'Serbia', 'Albania', 'Greece', 'Russia', 'Kosovo', 'Botswana', 'Åland', 'Romania', 'Macedonia', 'Latvia', 'Lithuania', 'Finland', 'Estonia', 'Sudan', 'Zambia', 'Ukraine', 'Bulgaria', 'Belarus', 'South Sudan', 'Egypt', 'Zimbabwe', 'Turkey', 'Moldova', 'Lesotho', 'Rwanda', 'Burundi', 'Tanzania', 'Uganda', 'Mozambique', 'Swaziland', 'Cyprus', 'Northern Cyprus', 'Malawi', 'Akrotiri and Dhekelia', 'Ethiopia', 'Kenya', 'Palestina', 'Israel', 'Saudi Arabia', 'Jordan', 'Lebanon', 'Syria', 'Eritrea', 'Iraq', 'Georgia', 'French Southern Territories', 'Somalia', 'Djibouti', 'Yemen', 'Comoros', 'Madagascar', 'Armenia', 'Iran', 'Azerbaijan', 'Mayotte', 'Seychelles', 'Kazakhstan', 'Kuwait', 'Caspian Sea', 'Bahrain', 'Qatar', 'United Arab Emirates', 'Oman', 'Turkmenistan', 'Reunion', 'Uzbekistan', 'Mauritius', 'Afghanistan', 'Pakistan', 'Tajikistan', 'India', 'Kyrgyzstan', 'British Indian Ocean Territory', 'Maldives', 'Heard Island and McDonald Islands', 'China', 'Sri Lanka', 'Nepal', 'Mongolia', 'Bangladesh', 'Bhutan', 'Myanmar', 'Indonesia', 'Cocos Islands', 'Thailand', 'Malaysia', 'Laos', 'Vietnam', 'Cambodia', 'Singapore', 'Christmas Island']\n"
     ]
    }
   ],
   "source": [
    "# Convert byte strings in the 'country' column to regular strings\n",
    "meta['country'] = meta['country'].apply(lambda x: x.decode('utf-8'))\n",
    "\n",
    "# Get unique country names\n",
    "unique_countries = meta['country'].unique()\n",
    "\n",
    "# To display the unique countries, you can convert it to a list\n",
    "unique_country_list = list(unique_countries)\n",
    "print(unique_country_list)"
   ]
  },
  {
   "cell_type": "code",
   "execution_count": 51,
   "id": "76c4398a",
   "metadata": {},
   "outputs": [
    {
     "data": {
      "text/plain": [
       "271.17764352"
      ]
     },
     "execution_count": 51,
     "metadata": {},
     "output_type": "execute_result"
    }
   ],
   "source": [
    "dset.shape[0] * dset.shape[1] * 2 * 10**-9 # 271 GB per dataset"
   ]
  },
  {
   "cell_type": "code",
   "execution_count": 52,
   "id": "f4f23f0d",
   "metadata": {},
   "outputs": [
    {
     "data": {
      "text/plain": [
       "(1344, 744)"
      ]
     },
     "execution_count": 52,
     "metadata": {},
     "output_type": "execute_result"
    }
   ],
   "source": [
    "dset.chunks"
   ]
  },
  {
   "cell_type": "code",
   "execution_count": 53,
   "id": "0adaf3b5",
   "metadata": {},
   "outputs": [
    {
     "data": {
      "text/html": [
       "<div>\n",
       "<style scoped>\n",
       "    .dataframe tbody tr th:only-of-type {\n",
       "        vertical-align: middle;\n",
       "    }\n",
       "\n",
       "    .dataframe tbody tr th {\n",
       "        vertical-align: top;\n",
       "    }\n",
       "\n",
       "    .dataframe thead th {\n",
       "        text-align: right;\n",
       "    }\n",
       "</style>\n",
       "<table border=\"1\" class=\"dataframe\">\n",
       "  <thead>\n",
       "    <tr style=\"text-align: right;\">\n",
       "      <th></th>\n",
       "      <th>latitude</th>\n",
       "      <th>longitude</th>\n",
       "      <th>elevation</th>\n",
       "      <th>timezone</th>\n",
       "      <th>country</th>\n",
       "      <th>state</th>\n",
       "      <th>county</th>\n",
       "    </tr>\n",
       "  </thead>\n",
       "  <tbody>\n",
       "    <tr>\n",
       "      <th>2949865</th>\n",
       "      <td>23.850000</td>\n",
       "      <td>68.220001</td>\n",
       "      <td>2</td>\n",
       "      <td>5</td>\n",
       "      <td>India</td>\n",
       "      <td>b'Gujarat'</td>\n",
       "      <td>b'Kachchh'</td>\n",
       "    </tr>\n",
       "    <tr>\n",
       "      <th>2949866</th>\n",
       "      <td>23.809999</td>\n",
       "      <td>68.220001</td>\n",
       "      <td>3</td>\n",
       "      <td>5</td>\n",
       "      <td>India</td>\n",
       "      <td>b'Gujarat'</td>\n",
       "      <td>b'Kachchh'</td>\n",
       "    </tr>\n",
       "    <tr>\n",
       "      <th>2949867</th>\n",
       "      <td>23.770000</td>\n",
       "      <td>68.220001</td>\n",
       "      <td>2</td>\n",
       "      <td>5</td>\n",
       "      <td>India</td>\n",
       "      <td>b'Gujarat'</td>\n",
       "      <td>b'Kachchh'</td>\n",
       "    </tr>\n",
       "    <tr>\n",
       "      <th>2949868</th>\n",
       "      <td>23.730000</td>\n",
       "      <td>68.220001</td>\n",
       "      <td>2</td>\n",
       "      <td>5</td>\n",
       "      <td>India</td>\n",
       "      <td>b'Gujarat'</td>\n",
       "      <td>b'Kachchh'</td>\n",
       "    </tr>\n",
       "    <tr>\n",
       "      <th>2949871</th>\n",
       "      <td>23.610001</td>\n",
       "      <td>68.220001</td>\n",
       "      <td>2</td>\n",
       "      <td>5</td>\n",
       "      <td>India</td>\n",
       "      <td>b'Gujarat'</td>\n",
       "      <td>b'Kachchh'</td>\n",
       "    </tr>\n",
       "  </tbody>\n",
       "</table>\n",
       "</div>"
      ],
      "text/plain": [
       "          latitude  longitude  elevation  timezone country       state  \\\n",
       "2949865  23.850000  68.220001          2         5   India  b'Gujarat'   \n",
       "2949866  23.809999  68.220001          3         5   India  b'Gujarat'   \n",
       "2949867  23.770000  68.220001          2         5   India  b'Gujarat'   \n",
       "2949868  23.730000  68.220001          2         5   India  b'Gujarat'   \n",
       "2949871  23.610001  68.220001          2         5   India  b'Gujarat'   \n",
       "\n",
       "             county  \n",
       "2949865  b'Kachchh'  \n",
       "2949866  b'Kachchh'  \n",
       "2949867  b'Kachchh'  \n",
       "2949868  b'Kachchh'  \n",
       "2949871  b'Kachchh'  "
      ]
     },
     "execution_count": 53,
     "metadata": {},
     "output_type": "execute_result"
    }
   ],
   "source": [
    "INDO = meta.loc[meta['country'] == 'India'] \n",
    "INDO.head()"
   ]
  },
  {
   "cell_type": "code",
   "execution_count": 54,
   "id": "8e4c88af",
   "metadata": {},
   "outputs": [
    {
     "data": {
      "text/plain": [
       "DatetimeIndex(['2018-01-01 00:00:00', '2018-01-01 00:15:00',\n",
       "               '2018-01-01 00:30:00', '2018-01-01 00:45:00',\n",
       "               '2018-01-01 01:00:00', '2018-01-01 01:15:00',\n",
       "               '2018-01-01 01:30:00', '2018-01-01 01:45:00',\n",
       "               '2018-01-01 02:00:00', '2018-01-01 02:15:00',\n",
       "               ...\n",
       "               '2018-12-31 21:30:00', '2018-12-31 21:45:00',\n",
       "               '2018-12-31 22:00:00', '2018-12-31 22:15:00',\n",
       "               '2018-12-31 22:30:00', '2018-12-31 22:45:00',\n",
       "               '2018-12-31 23:00:00', '2018-12-31 23:15:00',\n",
       "               '2018-12-31 23:30:00', '2018-12-31 23:45:00'],\n",
       "              dtype='datetime64[ns]', length=35040, freq=None)"
      ]
     },
     "execution_count": 54,
     "metadata": {},
     "output_type": "execute_result"
    }
   ],
   "source": [
    "time_index = pd.to_datetime(f['time_index'][...].astype(str))\n",
    "time_index"
   ]
  },
  {
   "cell_type": "code",
   "execution_count": 55,
   "id": "4099723f",
   "metadata": {},
   "outputs": [
    {
     "data": {
      "text/plain": [
       "34944"
      ]
     },
     "execution_count": 55,
     "metadata": {},
     "output_type": "execute_result"
    }
   ],
   "source": [
    "timestep = np.where(time_index == '2019-12-31 12:00:00')[0][0]\n",
    "timestep"
   ]
  },
  {
   "cell_type": "code",
   "execution_count": 56,
   "id": "c11896ec",
   "metadata": {},
   "outputs": [
    {
     "name": "stdout",
     "output_type": "stream",
     "text": [
      "CPU times: user 157 ms, sys: 106 ms, total: 263 ms\n",
      "Wall time: 42.6 s\n"
     ]
    },
    {
     "data": {
      "text/plain": [
       "(174190, 3)"
      ]
     },
     "execution_count": 56,
     "metadata": {},
     "output_type": "execute_result"
    }
   ],
   "source": [
    "%time data = dset[timestep][INDO.index]  # full-resolution subset\n",
    "df = INDO[['longitude', 'latitude']].copy()\n",
    "df['ghi'] = data\n",
    "df.shape"
   ]
  },
  {
   "cell_type": "code",
   "execution_count": 57,
   "id": "8ff9e74b",
   "metadata": {},
   "outputs": [
    {
     "data": {
      "image/png": "[encoded data removed]",
      "text/plain": [
       "<Figure size 640x480 with 2 Axes>"
      ]
     },
     "metadata": {},
     "output_type": "display_data"
    }
   ],
   "source": [
    "df.plot.scatter(x='longitude', y='latitude', c='ghi',\n",
    "                colormap='YlOrRd',\n",
    "                title=str(time_index[timestep]))\n",
    "plt.show()"
   ]
  },
  {
   "cell_type": "code",
   "execution_count": 15,
   "id": "bfec86a4",
   "metadata": {},
   "outputs": [],
   "source": [
    "def plot_ghi_at_time(country_meta, time_index, dset, specific_time, output_folder, country):\n",
    "    # Find the index for the specific time\n",
    "    timestep = np.where(time_index == specific_time)[0][0]\n",
    "    \n",
    "    # Extract GHI data for the specific time\n",
    "    ghi_data = dset[timestep][country_meta.index]\n",
    "\n",
    "    # Generate and save plot\n",
    "    plt.figure()\n",
    "    plt.scatter(country_meta['longitude'], country_meta['latitude'], c=ghi_data, cmap='YlOrRd')\n",
    "    plt.colorbar(label='GHI')\n",
    "    plt.xlabel('Longitude')\n",
    "    plt.ylabel('Latitude')\n",
    "    plt.title(f'GHI for {country} at {specific_time}')\n",
    "    plt.savefig(f'{output_folder}{country}_ghi_{specific_time}.png')\n",
    "    plt.close()\n"
   ]
  },
  {
   "cell_type": "code",
   "execution_count": 10,
   "id": "d476d8b7",
   "metadata": {},
   "outputs": [],
   "source": [
    "    # Open HDF5 file\n",
    "    f = h5pyd.File(\"/nrel/nsrdb/meteosat/meteosat_2019.h5\", 'r')\n",
    "    dset = f['ghi']\n",
    "    meta = pd.DataFrame(f['meta'][...])\n",
    "    meta['country'] = meta['country'].apply(lambda x: x.decode('utf-8'))\n",
    "\n",
    "    # Efficiently load time_index\n",
    "    time_index = pd.to_datetime(f['time_index'][...].astype(str))\n",
    "\n",
    "    # Save time_index\n",
    "    output_folder = 'output/'\n",
    "    if not os.path.exists(output_folder):\n",
    "        os.makedirs(output_folder)\n",
    "\n",
    "    time_index_df = pd.DataFrame(time_index, columns=['time'])\n",
    "    time_index_df.to_csv(f'{output_folder}time_index.csv', index=False)"
   ]
  },
  {
   "cell_type": "code",
   "execution_count": 16,
   "id": "743e6454",
   "metadata": {},
   "outputs": [
    {
     "name": "stdout",
     "output_type": "stream",
     "text": [
      "CSVs and PNG maps created successfully.\n"
     ]
    }
   ],
   "source": [
    "    # Specific time for GHI data\n",
    "    specific_time = '2019-12-31 12:00:00'\n",
    "      # Process countries\n",
    "    countries = ['India', 'Indonesia', 'China', 'South Africa']\n",
    "    for country in countries:\n",
    "        country_meta = meta.loc[meta['country'] == f'{country}']\n",
    "        \n",
    "        # Plot GHI data for the specific time\n",
    "        plot_ghi_at_time(country_meta, time_index, dset, specific_time, output_folder, country)\n",
    "\n",
    "    print(\"CSVs and PNG maps created successfully.\")"
   ]
  },
  {
   "cell_type": "code",
   "execution_count": null,
   "id": "aa076a0e",
   "metadata": {},
   "outputs": [],
   "source": []
  }
 ],
 "metadata": {
  "kernelspec": {
   "display_name": "Python 3 (ipykernel)",
   "language": "python",
   "name": "python3"
  },
  "language_info": {
   "codemirror_mode": {
    "name": "ipython",
    "version": 3
   },
   "file_extension": ".py",
   "mimetype": "text/x-python",
   "name": "python",
   "nbconvert_exporter": "python",
   "pygments_lexer": "ipython3",
   "version": "3.11.4"
  },
  "toc": {
   "base_numbering": 1,
   "nav_menu": {},
   "number_sections": true,
   "sideBar": true,
   "skip_h1_title": false,
   "title_cell": "Table of Contents",
   "title_sidebar": "Contents",
   "toc_cell": false,
   "toc_position": {},
   "toc_section_display": true,
   "toc_window_display": false
  }
 },
 "nbformat": 4,
 "nbformat_minor": 5
}
